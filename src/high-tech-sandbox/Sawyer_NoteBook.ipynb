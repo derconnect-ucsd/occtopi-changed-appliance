{
 "cells": [
  {
   "cell_type": "code",
   "execution_count": 20,
   "id": "7de7012c",
   "metadata": {},
   "outputs": [],
   "source": [
    "import plotly.express as px"
   ]
  },
  {
   "cell_type": "code",
   "execution_count": null,
   "id": "c8f5f589",
   "metadata": {},
   "outputs": [
    {
     "name": "stdout",
     "output_type": "stream",
     "text": [
      "   Value           Timestamp\n",
      "0      1 2025-04-01 00:00:00\n",
      "1      6 2025-04-01 01:00:00\n",
      "2      5 2025-04-01 02:00:00\n",
      "3      3 2025-04-01 03:00:00\n",
      "4      3 2025-04-01 04:00:00\n",
      "             Value            Timestamp\n",
      "count    48.000000                   48\n",
      "mean    194.479167  2025-04-01 23:30:00\n",
      "min       1.000000  2025-04-01 00:00:00\n",
      "25%       5.000000  2025-04-01 11:45:00\n",
      "50%       6.500000  2025-04-01 23:30:00\n",
      "75%      43.000000  2025-04-02 11:15:00\n",
      "max    6767.000000  2025-04-02 23:00:00\n",
      "std     982.861606                  NaN\n"
     ]
    }
   ],
   "source": [
    "import pandas as pd\n",
    "\n",
    "import plotly.express as px\n",
    "\n",
    "import numpy as np\n",
    "\n",
    "import plotly.graph_objects as po\n",
    "df = pd.read_csv(\"../../data/raw/sample-data.csv\") \n",
    "\n",
    "df['Timestamp'] = pd.to_datetime(df['Date'] + ' ' + df['Time'])\n",
    "df = df.drop(columns=['Date', 'Time'])\n",
    "print(df.head())\n",
    "fig = px.line(df, x='Timestamp', y='Value', title='Data Chart')\n",
    "fig.show()\n",
    "\n",
    "data_series = df['Value']\n",
    "minimum = data_series.describe()\n",
    "maximum = data_series.describe()\n",
    "average = data_series.describe()\n",
    "\n",
    "print(df.describe())\n"
   ]
  }
 ],
 "metadata": {
  "kernelspec": {
   "display_name": "Python 3",
   "language": "python",
   "name": "python3"
  },
  "language_info": {
   "codemirror_mode": {
    "name": "ipython",
    "version": 3
   },
   "file_extension": ".py",
   "mimetype": "text/x-python",
   "name": "python",
   "nbconvert_exporter": "python",
   "pygments_lexer": "ipython3",
   "version": "3.13.3"
  }
 },
 "nbformat": 4,
 "nbformat_minor": 5
}
