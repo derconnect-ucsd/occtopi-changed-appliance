{
 "cells": [
  {
   "cell_type": "code",
   "execution_count": 20,
   "id": "7de7012c",
   "metadata": {},
   "outputs": [],
   "source": [
    "import plotly.express as px"
   ]
  },
  {
   "cell_type": "code",
   "execution_count": null,
   "id": "c8f5f589",
   "metadata": {},
   "outputs": [
    {
     "name": "stdout",
     "output_type": "stream",
     "text": [
      "   Value           Timestamp\n",
      "0      1 2025-04-01 00:00:00\n",
      "1      6 2025-04-01 01:00:00\n",
      "2      5 2025-04-01 02:00:00\n",
      "3    103 2025-04-01 03:00:00\n",
      "4      3 2025-04-01 04:00:00\n"
     ]
    },
    {
     "data": {
      "application/vnd.plotly.v1+json": {
       "config": {
        "plotlyServerURL": "https://plot.ly"
       },
       "data": [
        {
         "hovertemplate": "Timestamp=%{x}<br>Value=%{y}<extra></extra>",
         "legendgroup": "",
         "line": {
          "color": "#636efa",
          "dash": "solid"
         },
         "marker": {
          "symbol": "circle"
         },
         "mode": "lines",
         "name": "",
         "orientation": "v",
         "showlegend": false,
         "type": "scatter",
         "x": [
          "2025-04-01T00:00:00.000000000",
          "2025-04-01T01:00:00.000000000",
          "2025-04-01T02:00:00.000000000",
          "2025-04-01T03:00:00.000000000",
          "2025-04-01T04:00:00.000000000",
          "2025-04-01T05:00:00.000000000",
          "2025-04-01T06:00:00.000000000",
          "2025-04-01T07:00:00.000000000",
          "2025-04-01T08:00:00.000000000",
          "2025-04-01T09:00:00.000000000",
          "2025-04-01T10:00:00.000000000",
          "2025-04-01T11:00:00.000000000",
          "2025-04-01T12:00:00.000000000",
          "2025-04-01T13:00:00.000000000",
          "2025-04-01T14:00:00.000000000",
          "2025-04-01T15:00:00.000000000",
          "2025-04-01T16:00:00.000000000",
          "2025-04-01T17:00:00.000000000",
          "2025-04-01T18:00:00.000000000",
          "2025-04-01T19:00:00.000000000",
          "2025-04-01T20:00:00.000000000",
          "2025-04-01T21:00:00.000000000",
          "2025-04-01T22:00:00.000000000",
          "2025-04-01T23:00:00.000000000",
          "2025-04-02T00:00:00.000000000",
          "2025-04-02T01:00:00.000000000",
          "2025-04-02T02:00:00.000000000",
          "2025-04-02T03:00:00.000000000",
          "2025-04-02T04:00:00.000000000",
          "2025-04-02T05:00:00.000000000",
          "2025-04-02T06:00:00.000000000",
          "2025-04-02T07:00:00.000000000",
          "2025-04-02T08:00:00.000000000",
          "2025-04-02T09:00:00.000000000",
          "2025-04-02T10:00:00.000000000",
          "2025-04-02T11:00:00.000000000",
          "2025-04-02T12:00:00.000000000",
          "2025-04-02T13:00:00.000000000",
          "2025-04-02T14:00:00.000000000",
          "2025-04-02T15:00:00.000000000",
          "2025-04-02T16:00:00.000000000",
          "2025-04-02T17:00:00.000000000",
          "2025-04-02T18:00:00.000000000",
          "2025-04-02T19:00:00.000000000",
          "2025-04-02T20:00:00.000000000",
          "2025-04-02T21:00:00.000000000",
          "2025-04-02T22:00:00.000000000",
          "2025-04-02T23:00:00.000000000",
          "2025-04-03T00:00:00.000000000",
          "2025-04-03T01:00:00.000000000",
          "2025-04-03T02:00:00.000000000",
          "2025-04-03T03:00:00.000000000",
          "2025-04-03T04:00:00.000000000",
          "2025-04-03T05:00:00.000000000",
          "2025-04-03T06:00:00.000000000",
          "2025-04-03T07:00:00.000000000",
          "2025-04-03T08:00:00.000000000",
          "2025-04-03T09:00:00.000000000",
          "2025-04-03T10:00:00.000000000",
          "2025-04-03T11:00:00.000000000",
          "2025-04-03T12:00:00.000000000",
          "2025-04-03T13:00:00.000000000",
          "2025-04-03T14:00:00.000000000",
          "2025-04-03T15:00:00.000000000",
          "2025-04-03T16:00:00.000000000",
          "2025-04-03T17:00:00.000000000",
          "2025-04-03T18:00:00.000000000",
          "2025-04-03T19:00:00.000000000",
          "2025-04-03T20:00:00.000000000",
          "2025-04-03T21:00:00.000000000",
          "2025-04-03T22:00:00.000000000",
          "2025-04-03T23:00:00.000000000",
          "2025-04-04T00:00:00.000000000",
          "2025-04-04T01:00:00.000000000",
          "2025-04-04T02:00:00.000000000",
          "2025-04-04T03:00:00.000000000",
          "2025-04-04T04:00:00.000000000",
          "2025-04-04T05:00:00.000000000",
          "2025-04-04T06:00:00.000000000",
          "2025-04-04T07:00:00.000000000",
          "2025-04-04T08:00:00.000000000",
          "2025-04-04T09:00:00.000000000",
          "2025-04-04T10:00:00.000000000",
          "2025-04-04T11:00:00.000000000",
          "2025-04-04T12:00:00.000000000",
          "2025-04-04T13:00:00.000000000",
          "2025-04-04T14:00:00.000000000",
          "2025-04-04T15:00:00.000000000",
          "2025-04-04T16:00:00.000000000",
          "2025-04-04T17:00:00.000000000",
          "2025-04-04T18:00:00.000000000",
          "2025-04-04T19:00:00.000000000",
          "2025-04-04T20:00:00.000000000",
          "2025-04-04T21:00:00.000000000",
          "2025-04-04T22:00:00.000000000",
          "2025-04-04T23:00:00.000000000"
         ],
         "xaxis": "x",
         "y": {
          "bdata": "AQAGAAUAZwADANAA0QAHAEwABQArACAABQAGAAcAWQBgAEEA7AMrAAUABgAKA1gABgBkAPQAIQADAGgAOAAGAAYABgAEAMgALAAhAGQAAgAFAAYAbxoHAAcAbgMIAAgArgQIB6EE2AQIB7AEvwSCAIwAeACHAHMAkACwBKYE0AfJBKEEnAS6BH8AjwCHAIoArgRABqEE2AR+BLAECAeCAIwAeACHAHMAkACwBEAGQAZABqEEnAS6BH8AjwCHAIoA",
          "dtype": "i2"
         },
         "yaxis": "y"
        }
       ],
       "layout": {
        "legend": {
         "tracegroupgap": 0
        },
        "template": {
         "data": {
          "bar": [
           {
            "error_x": {
             "color": "#2a3f5f"
            },
            "error_y": {
             "color": "#2a3f5f"
            },
            "marker": {
             "line": {
              "color": "#E5ECF6",
              "width": 0.5
             },
             "pattern": {
              "fillmode": "overlay",
              "size": 10,
              "solidity": 0.2
             }
            },
            "type": "bar"
           }
          ],
          "barpolar": [
           {
            "marker": {
             "line": {
              "color": "#E5ECF6",
              "width": 0.5
             },
             "pattern": {
              "fillmode": "overlay",
              "size": 10,
              "solidity": 0.2
             }
            },
            "type": "barpolar"
           }
          ],
          "carpet": [
           {
            "aaxis": {
             "endlinecolor": "#2a3f5f",
             "gridcolor": "white",
             "linecolor": "white",
             "minorgridcolor": "white",
             "startlinecolor": "#2a3f5f"
            },
            "baxis": {
             "endlinecolor": "#2a3f5f",
             "gridcolor": "white",
             "linecolor": "white",
             "minorgridcolor": "white",
             "startlinecolor": "#2a3f5f"
            },
            "type": "carpet"
           }
          ],
          "choropleth": [
           {
            "colorbar": {
             "outlinewidth": 0,
             "ticks": ""
            },
            "type": "choropleth"
           }
          ],
          "contour": [
           {
            "colorbar": {
             "outlinewidth": 0,
             "ticks": ""
            },
            "colorscale": [
             [
              0,
              "#0d0887"
             ],
             [
              0.1111111111111111,
              "#46039f"
             ],
             [
              0.2222222222222222,
              "#7201a8"
             ],
             [
              0.3333333333333333,
              "#9c179e"
             ],
             [
              0.4444444444444444,
              "#bd3786"
             ],
             [
              0.5555555555555556,
              "#d8576b"
             ],
             [
              0.6666666666666666,
              "#ed7953"
             ],
             [
              0.7777777777777778,
              "#fb9f3a"
             ],
             [
              0.8888888888888888,
              "#fdca26"
             ],
             [
              1,
              "#f0f921"
             ]
            ],
            "type": "contour"
           }
          ],
          "contourcarpet": [
           {
            "colorbar": {
             "outlinewidth": 0,
             "ticks": ""
            },
            "type": "contourcarpet"
           }
          ],
          "heatmap": [
           {
            "colorbar": {
             "outlinewidth": 0,
             "ticks": ""
            },
            "colorscale": [
             [
              0,
              "#0d0887"
             ],
             [
              0.1111111111111111,
              "#46039f"
             ],
             [
              0.2222222222222222,
              "#7201a8"
             ],
             [
              0.3333333333333333,
              "#9c179e"
             ],
             [
              0.4444444444444444,
              "#bd3786"
             ],
             [
              0.5555555555555556,
              "#d8576b"
             ],
             [
              0.6666666666666666,
              "#ed7953"
             ],
             [
              0.7777777777777778,
              "#fb9f3a"
             ],
             [
              0.8888888888888888,
              "#fdca26"
             ],
             [
              1,
              "#f0f921"
             ]
            ],
            "type": "heatmap"
           }
          ],
          "histogram": [
           {
            "marker": {
             "pattern": {
              "fillmode": "overlay",
              "size": 10,
              "solidity": 0.2
             }
            },
            "type": "histogram"
           }
          ],
          "histogram2d": [
           {
            "colorbar": {
             "outlinewidth": 0,
             "ticks": ""
            },
            "colorscale": [
             [
              0,
              "#0d0887"
             ],
             [
              0.1111111111111111,
              "#46039f"
             ],
             [
              0.2222222222222222,
              "#7201a8"
             ],
             [
              0.3333333333333333,
              "#9c179e"
             ],
             [
              0.4444444444444444,
              "#bd3786"
             ],
             [
              0.5555555555555556,
              "#d8576b"
             ],
             [
              0.6666666666666666,
              "#ed7953"
             ],
             [
              0.7777777777777778,
              "#fb9f3a"
             ],
             [
              0.8888888888888888,
              "#fdca26"
             ],
             [
              1,
              "#f0f921"
             ]
            ],
            "type": "histogram2d"
           }
          ],
          "histogram2dcontour": [
           {
            "colorbar": {
             "outlinewidth": 0,
             "ticks": ""
            },
            "colorscale": [
             [
              0,
              "#0d0887"
             ],
             [
              0.1111111111111111,
              "#46039f"
             ],
             [
              0.2222222222222222,
              "#7201a8"
             ],
             [
              0.3333333333333333,
              "#9c179e"
             ],
             [
              0.4444444444444444,
              "#bd3786"
             ],
             [
              0.5555555555555556,
              "#d8576b"
             ],
             [
              0.6666666666666666,
              "#ed7953"
             ],
             [
              0.7777777777777778,
              "#fb9f3a"
             ],
             [
              0.8888888888888888,
              "#fdca26"
             ],
             [
              1,
              "#f0f921"
             ]
            ],
            "type": "histogram2dcontour"
           }
          ],
          "mesh3d": [
           {
            "colorbar": {
             "outlinewidth": 0,
             "ticks": ""
            },
            "type": "mesh3d"
           }
          ],
          "parcoords": [
           {
            "line": {
             "colorbar": {
              "outlinewidth": 0,
              "ticks": ""
             }
            },
            "type": "parcoords"
           }
          ],
          "pie": [
           {
            "automargin": true,
            "type": "pie"
           }
          ],
          "scatter": [
           {
            "fillpattern": {
             "fillmode": "overlay",
             "size": 10,
             "solidity": 0.2
            },
            "type": "scatter"
           }
          ],
          "scatter3d": [
           {
            "line": {
             "colorbar": {
              "outlinewidth": 0,
              "ticks": ""
             }
            },
            "marker": {
             "colorbar": {
              "outlinewidth": 0,
              "ticks": ""
             }
            },
            "type": "scatter3d"
           }
          ],
          "scattercarpet": [
           {
            "marker": {
             "colorbar": {
              "outlinewidth": 0,
              "ticks": ""
             }
            },
            "type": "scattercarpet"
           }
          ],
          "scattergeo": [
           {
            "marker": {
             "colorbar": {
              "outlinewidth": 0,
              "ticks": ""
             }
            },
            "type": "scattergeo"
           }
          ],
          "scattergl": [
           {
            "marker": {
             "colorbar": {
              "outlinewidth": 0,
              "ticks": ""
             }
            },
            "type": "scattergl"
           }
          ],
          "scattermap": [
           {
            "marker": {
             "colorbar": {
              "outlinewidth": 0,
              "ticks": ""
             }
            },
            "type": "scattermap"
           }
          ],
          "scattermapbox": [
           {
            "marker": {
             "colorbar": {
              "outlinewidth": 0,
              "ticks": ""
             }
            },
            "type": "scattermapbox"
           }
          ],
          "scatterpolar": [
           {
            "marker": {
             "colorbar": {
              "outlinewidth": 0,
              "ticks": ""
             }
            },
            "type": "scatterpolar"
           }
          ],
          "scatterpolargl": [
           {
            "marker": {
             "colorbar": {
              "outlinewidth": 0,
              "ticks": ""
             }
            },
            "type": "scatterpolargl"
           }
          ],
          "scatterternary": [
           {
            "marker": {
             "colorbar": {
              "outlinewidth": 0,
              "ticks": ""
             }
            },
            "type": "scatterternary"
           }
          ],
          "surface": [
           {
            "colorbar": {
             "outlinewidth": 0,
             "ticks": ""
            },
            "colorscale": [
             [
              0,
              "#0d0887"
             ],
             [
              0.1111111111111111,
              "#46039f"
             ],
             [
              0.2222222222222222,
              "#7201a8"
             ],
             [
              0.3333333333333333,
              "#9c179e"
             ],
             [
              0.4444444444444444,
              "#bd3786"
             ],
             [
              0.5555555555555556,
              "#d8576b"
             ],
             [
              0.6666666666666666,
              "#ed7953"
             ],
             [
              0.7777777777777778,
              "#fb9f3a"
             ],
             [
              0.8888888888888888,
              "#fdca26"
             ],
             [
              1,
              "#f0f921"
             ]
            ],
            "type": "surface"
           }
          ],
          "table": [
           {
            "cells": {
             "fill": {
              "color": "#EBF0F8"
             },
             "line": {
              "color": "white"
             }
            },
            "header": {
             "fill": {
              "color": "#C8D4E3"
             },
             "line": {
              "color": "white"
             }
            },
            "type": "table"
           }
          ]
         },
         "layout": {
          "annotationdefaults": {
           "arrowcolor": "#2a3f5f",
           "arrowhead": 0,
           "arrowwidth": 1
          },
          "autotypenumbers": "strict",
          "coloraxis": {
           "colorbar": {
            "outlinewidth": 0,
            "ticks": ""
           }
          },
          "colorscale": {
           "diverging": [
            [
             0,
             "#8e0152"
            ],
            [
             0.1,
             "#c51b7d"
            ],
            [
             0.2,
             "#de77ae"
            ],
            [
             0.3,
             "#f1b6da"
            ],
            [
             0.4,
             "#fde0ef"
            ],
            [
             0.5,
             "#f7f7f7"
            ],
            [
             0.6,
             "#e6f5d0"
            ],
            [
             0.7,
             "#b8e186"
            ],
            [
             0.8,
             "#7fbc41"
            ],
            [
             0.9,
             "#4d9221"
            ],
            [
             1,
             "#276419"
            ]
           ],
           "sequential": [
            [
             0,
             "#0d0887"
            ],
            [
             0.1111111111111111,
             "#46039f"
            ],
            [
             0.2222222222222222,
             "#7201a8"
            ],
            [
             0.3333333333333333,
             "#9c179e"
            ],
            [
             0.4444444444444444,
             "#bd3786"
            ],
            [
             0.5555555555555556,
             "#d8576b"
            ],
            [
             0.6666666666666666,
             "#ed7953"
            ],
            [
             0.7777777777777778,
             "#fb9f3a"
            ],
            [
             0.8888888888888888,
             "#fdca26"
            ],
            [
             1,
             "#f0f921"
            ]
           ],
           "sequentialminus": [
            [
             0,
             "#0d0887"
            ],
            [
             0.1111111111111111,
             "#46039f"
            ],
            [
             0.2222222222222222,
             "#7201a8"
            ],
            [
             0.3333333333333333,
             "#9c179e"
            ],
            [
             0.4444444444444444,
             "#bd3786"
            ],
            [
             0.5555555555555556,
             "#d8576b"
            ],
            [
             0.6666666666666666,
             "#ed7953"
            ],
            [
             0.7777777777777778,
             "#fb9f3a"
            ],
            [
             0.8888888888888888,
             "#fdca26"
            ],
            [
             1,
             "#f0f921"
            ]
           ]
          },
          "colorway": [
           "#636efa",
           "#EF553B",
           "#00cc96",
           "#ab63fa",
           "#FFA15A",
           "#19d3f3",
           "#FF6692",
           "#B6E880",
           "#FF97FF",
           "#FECB52"
          ],
          "font": {
           "color": "#2a3f5f"
          },
          "geo": {
           "bgcolor": "white",
           "lakecolor": "white",
           "landcolor": "#E5ECF6",
           "showlakes": true,
           "showland": true,
           "subunitcolor": "white"
          },
          "hoverlabel": {
           "align": "left"
          },
          "hovermode": "closest",
          "mapbox": {
           "style": "light"
          },
          "paper_bgcolor": "white",
          "plot_bgcolor": "#E5ECF6",
          "polar": {
           "angularaxis": {
            "gridcolor": "white",
            "linecolor": "white",
            "ticks": ""
           },
           "bgcolor": "#E5ECF6",
           "radialaxis": {
            "gridcolor": "white",
            "linecolor": "white",
            "ticks": ""
           }
          },
          "scene": {
           "xaxis": {
            "backgroundcolor": "#E5ECF6",
            "gridcolor": "white",
            "gridwidth": 2,
            "linecolor": "white",
            "showbackground": true,
            "ticks": "",
            "zerolinecolor": "white"
           },
           "yaxis": {
            "backgroundcolor": "#E5ECF6",
            "gridcolor": "white",
            "gridwidth": 2,
            "linecolor": "white",
            "showbackground": true,
            "ticks": "",
            "zerolinecolor": "white"
           },
           "zaxis": {
            "backgroundcolor": "#E5ECF6",
            "gridcolor": "white",
            "gridwidth": 2,
            "linecolor": "white",
            "showbackground": true,
            "ticks": "",
            "zerolinecolor": "white"
           }
          },
          "shapedefaults": {
           "line": {
            "color": "#2a3f5f"
           }
          },
          "ternary": {
           "aaxis": {
            "gridcolor": "white",
            "linecolor": "white",
            "ticks": ""
           },
           "baxis": {
            "gridcolor": "white",
            "linecolor": "white",
            "ticks": ""
           },
           "bgcolor": "#E5ECF6",
           "caxis": {
            "gridcolor": "white",
            "linecolor": "white",
            "ticks": ""
           }
          },
          "title": {
           "x": 0.05
          },
          "xaxis": {
           "automargin": true,
           "gridcolor": "white",
           "linecolor": "white",
           "ticks": "",
           "title": {
            "standoff": 15
           },
           "zerolinecolor": "white",
           "zerolinewidth": 2
          },
          "yaxis": {
           "automargin": true,
           "gridcolor": "white",
           "linecolor": "white",
           "ticks": "",
           "title": {
            "standoff": 15
           },
           "zerolinecolor": "white",
           "zerolinewidth": 2
          }
         }
        },
        "title": {
         "text": "Data Chart"
        },
        "xaxis": {
         "anchor": "y",
         "domain": [
          0,
          1
         ],
         "title": {
          "text": "Timestamp"
         }
        },
        "yaxis": {
         "anchor": "x",
         "domain": [
          0,
          1
         ],
         "title": {
          "text": "Value"
         }
        }
       }
      }
     },
     "metadata": {},
     "output_type": "display_data"
    },
    {
     "name": "stdout",
     "output_type": "stream",
     "text": [
      "             Value            Timestamp\n",
      "count    96.000000                   96\n",
      "mean    541.177083  2025-04-02 23:30:00\n",
      "min       1.000000  2025-04-01 00:00:00\n",
      "25%      26.000000  2025-04-01 23:45:00\n",
      "50%     132.500000  2025-04-02 23:30:00\n",
      "75%    1185.000000  2025-04-03 23:15:00\n",
      "max    6767.000000  2025-04-04 23:00:00\n",
      "std     879.000988                  NaN\n"
     ]
    }
   ],
   "source": [
    "import pandas as pd\n",
    "\n",
    "import plotly.express as px\n",
    "\n",
    "import numpy as np\n",
    "\n",
    "import plotly.graph_objects as po\n",
    "df = pd.read_csv(\"../../data/raw/sample-data.csv\") \n",
    "\n",
    "df['Timestamp'] = pd.to_datetime(df['Date'] + ' ' + df['Time'])\n",
    "df = df.drop(columns=['Date', 'Time'])\n",
    "print(df.head())\n",
    "fig = px.line(df, x='Timestamp', y='Value', title='Data Chart')\n",
    "fig.show()\n",
    "\n",
    "data_series = df['Value']\n",
    "minimum = data_series.describe()\n",
    "maximum = data_series.describe()\n",
    "average = data_series.describe()\n",
    "\n",
    "print(df.describe())\n",
    "\n",
    "\n"
   ]
  }
 ],
 "metadata": {
  "kernelspec": {
   "display_name": "Python 3",
   "language": "python",
   "name": "python3"
  },
  "language_info": {
   "codemirror_mode": {
    "name": "ipython",
    "version": 3
   },
   "file_extension": ".py",
   "mimetype": "text/x-python",
   "name": "python",
   "nbconvert_exporter": "python",
   "pygments_lexer": "ipython3",
   "version": "3.13.3"
  }
 },
 "nbformat": 4,
 "nbformat_minor": 5
}
